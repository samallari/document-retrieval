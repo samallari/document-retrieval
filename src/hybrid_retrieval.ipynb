{
 "cells": [
  {
   "metadata": {},
   "cell_type": "markdown",
   "source": [
    "## Dense + Sparse: Hybrid Retrieval\n",
    "uses results from dense and sparse retrieval to improve performance"
   ],
   "id": "31e73e0d2c04f865"
  },
  {
   "metadata": {},
   "cell_type": "markdown",
   "source": "## Load Dataset",
   "id": "9d242541c31f4306"
  },
  {
   "metadata": {
    "ExecuteTime": {
     "end_time": "2025-05-08T09:54:57.844057Z",
     "start_time": "2025-05-08T09:54:52.335468Z"
    }
   },
   "cell_type": "code",
   "source": [
    "from dataset_loader import DatasetLoader\n",
    "\n",
    "# Load cranfield dataset for testing functions, use MS MARCO, HotpotQA, and potentially Climate-FEVER for real evaluation\n",
    "loader = DatasetLoader(\"cranfield\")\n",
    "docs, queries, qrels = loader.get_all()\n",
    "loader.print_info()\n",
    "\n",
    "# # load multiple datasets for evaluation\n",
    "# nameset = [\"beir/msmarco/dev\", \"bier/hotpotqa/dev\", \"bier/climate-fever/dev\"]\n",
    "#\n",
    "# # Dictionary to hold datasets\n",
    "# datasets = {}\n",
    "#\n",
    "# for name in nameset:\n",
    "#     loader = DatasetLoader(name)\n",
    "#     docs, queries, qrels = loader.get_all()\n",
    "#     datasets[name] = {\n",
    "#         \"docs\": docs,\n",
    "#         \"queries\": queries,\n",
    "#         \"qrels\": qrels\n",
    "#     }\n",
    "#     loader.print_info()\n"
   ],
   "id": "237fc19816c470ed",
   "outputs": [
    {
     "name": "stdout",
     "output_type": "stream",
     "text": [
      "DATASET: cranfield\n",
      "DOCS (1400): ('1', 'experimental investigation of the aerodynamics of a\\nwing in a slipstream .\\n  an experimental study of a wing in a propeller slipstream was\\nmade in order to determine the spanwise distribution of the lift\\nincrease due to slipstream at different angles of attack of the wing\\nand at different free stream to slipstream velocity ratios .  the\\nresults were intended in part as an evaluation basis for different\\ntheoretical treatments of this problem .\\n  the comparative span loading curves, together with\\nsupporting evidence, showed that a substantial part of the lift increment\\nproduced by the slipstream was due to a /destalling/ or\\nboundary-layer-control effect .  the integrated remaining lift\\nincrement, after subtracting this destalling lift, was found to agree\\nwell with a potential flow theory .\\n  an empirical evaluation of the destalling effects was made for\\nthe specific configuration of the experiment .') \n",
      "\n",
      "QUERIES (225): ('1', 'what similarity laws must be obeyed when constructing aeroelastic models\\nof heated high speed aircraft .') \n",
      "\n",
      "QRELS (225): ('1', {'195': 4, '142': 4, '52': 4, '462': 4, '13': 4, '14': 4, '15': 4, '56': 3, '95': 3, '30': 3, '185': 3, '858': 3, '66': 3, '876': 3, '102': 3, '51': 3, '12': 3, '879': 3, '880': 3, '37': 3, '497': 3, '184': 2, '859': 2, '378': 2, '57': 2, '31': 2, '29': 2, '875': 2, '486': -1}) \n",
      "\n"
     ]
    }
   ],
   "execution_count": 1
  },
  {
   "metadata": {
    "ExecuteTime": {
     "end_time": "2025-05-08T09:54:57.861693Z",
     "start_time": "2025-05-08T09:54:57.859058Z"
    }
   },
   "cell_type": "code",
   "source": [
    "# extract document and query IDs + texts\n",
    "doc_ids, doc_texts = list(docs.keys()), list(docs.values())\n",
    "query_ids, query_texts = list(queries.keys()), list(queries.values())"
   ],
   "id": "acceff955692a932",
   "outputs": [],
   "execution_count": 2
  },
  {
   "metadata": {},
   "cell_type": "markdown",
   "source": [
    "## Load Results from Dense and Sparse Retrieval\n",
    "Results should follow format:\n",
    "```\n",
    "{\n",
    "    \"query_id\": {\n",
    "        \"doc_id\": {\n",
    "            \"score\": 0.9\n",
    "        }\n",
    "    }\n",
    "}\n",
    "```"
   ],
   "id": "2f3a97aa8860c5e4"
  },
  {
   "metadata": {
    "ExecuteTime": {
     "end_time": "2025-05-08T09:54:58.061183Z",
     "start_time": "2025-05-08T09:54:57.878130Z"
    }
   },
   "cell_type": "code",
   "source": [
    "from ranx import Run\n",
    "\n",
    "# Load dense and sparse results from JSON\n",
    "dense_run = Run.from_file(\"dense_run.json\")\n",
    "sparse_run = Run.from_file(\"bm25_run.json\")  # use bm25 over tfidf"
   ],
   "id": "48eb24413fd16320",
   "outputs": [],
   "execution_count": 3
  },
  {
   "metadata": {},
   "cell_type": "markdown",
   "source": "## Apply Multiple Fusion Strategies + Evaluate",
   "id": "71cfdb3ab29ddadc"
  },
  {
   "metadata": {
    "ExecuteTime": {
     "end_time": "2025-05-08T10:22:57.616949Z",
     "start_time": "2025-05-08T10:22:57.590327Z"
    }
   },
   "cell_type": "code",
   "source": [
    "from ranx import fuse, evaluate\n",
    "import time\n",
    "\n",
    "# do rrf fusion\n",
    "rff_start_time = time.time()\n",
    "rff_run = fuse([sparse_run, dense_run], method=\"rrf\")\n",
    "rff_end_time = time.time()\n",
    "rff_retrieval_time = (rff_end_time - rff_start_time) / len(rff_run.run)\n",
    "print(f\"RRF Retrieval time per query: {rff_retrieval_time:.6f} seconds\")\n",
    "\n",
    "# do wsum fusion\n",
    "wsum_start_time = time.time()\n",
    "wsum_run = fuse([sparse_run, dense_run], method=\"wsum\", params={\"weights\": [0.5, 0.5]})\n",
    "wsum_end_time = time.time()\n",
    "wsum_retrieval_time = (wsum_end_time - wsum_start_time) / len(wsum_run.run)\n",
    "print(f\"WSUM 50-50 Retrieval time per query: {wsum_retrieval_time:.6f} seconds\")\n",
    "\n",
    "# do 40-60 fusion\n",
    "wsum2_start_time = time.time()\n",
    "wsum2_run = fuse([sparse_run, dense_run], method=\"wsum\", params={\"weights\": [0.4, 0.6]})\n",
    "wsum2_end_time = time.time()\n",
    "wsum2_retrieval_time = (wsum2_end_time - wsum2_start_time) / len(wsum2_run.run)\n",
    "print(f\"WSUM2 40-60 Retrieval time per query: {wsum2_retrieval_time:.6f} seconds\")\n",
    "\n",
    "# do 60-40 fusion\n",
    "wsum3_start_time = time.time()\n",
    "wsum3_run = fuse([sparse_run, dense_run], method=\"wsum\", params={\"weights\": [0.6, 0.4]})\n",
    "wsum3_end_time = time.time()\n",
    "wsum3_retrieval_time = (wsum3_end_time - wsum3_start_time) / len(wsum3_run.run)\n",
    "print(f\"WSUM3 60-40 Retrieval time per query: {wsum3_retrieval_time:.6f} seconds\")\n"
   ],
   "id": "e4397518d7d9e5d9",
   "outputs": [
    {
     "name": "stdout",
     "output_type": "stream",
     "text": [
      "RRF Retrieval time per query: 0.000034 seconds\n",
      "WSUM 50-50 Retrieval time per query: 0.000024 seconds\n",
      "WSUM2 40-60 Retrieval time per query: 0.000020 seconds\n",
      "WSUM3 60-40 Retrieval time per query: 0.000021 seconds\n"
     ]
    }
   ],
   "execution_count": 16
  },
  {
   "metadata": {
    "ExecuteTime": {
     "end_time": "2025-05-08T10:23:03.304342Z",
     "start_time": "2025-05-08T10:23:03.287478Z"
    }
   },
   "cell_type": "code",
   "source": [
    "# calculate MRR for each fusion strategy\n",
    "mrr_rff = evaluate(qrels, rff_run, metrics=[\"mrr\"])\n",
    "mrr_wsum = evaluate(qrels, wsum_run, metrics=[\"mrr\"])\n",
    "mrr_wsum2 = evaluate(qrels, wsum2_run, metrics=[\"mrr\"])\n",
    "mrr_wsum3 = evaluate(qrels, wsum3_run, metrics=[\"mrr\"])\n",
    "\n",
    "print(f\"RRF MRR: {mrr_rff:.4f}\")\n",
    "print(f\"WSUM 50/50 MRR: {mrr_wsum:.4f}\")\n",
    "print(f\"WSUM2 40/60 MRR: {mrr_wsum2:.4f}\")\n",
    "print(f\"WSUM3 60/40 MRR: {mrr_wsum3:.4f}\")"
   ],
   "id": "d9177c0113d7caa6",
   "outputs": [
    {
     "name": "stdout",
     "output_type": "stream",
     "text": [
      "RRF MRR: 0.5162\n",
      "WSUM 50/50 MRR: 0.5058\n",
      "WSUM2 40/60 MRR: 0.4915\n",
      "WSUM3 60/40 MRR: 0.5043\n"
     ]
    }
   ],
   "execution_count": 17
  }
 ],
 "metadata": {},
 "nbformat": 4,
 "nbformat_minor": 5
}
