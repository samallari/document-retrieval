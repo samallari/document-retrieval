{
 "cells": [
  {
   "metadata": {},
   "cell_type": "markdown",
   "source": "## Load Dataset",
   "id": "c4a3a069c56effd"
  },
  {
   "metadata": {
    "ExecuteTime": {
     "end_time": "2025-05-07T00:52:18.036857Z",
     "start_time": "2025-05-07T00:52:14.001588Z"
    }
   },
   "cell_type": "code",
   "source": [
    "from src.dataset_loader import DatasetLoader\n",
    "\n",
    "# Load cranfield dataset for testing functions, use MS MARCO, HotpotQA, and potentially Climate-FEVER for real evaluation\n",
    "loader = DatasetLoader(\"cranfield\")\n",
    "docs, queries, qrels = loader.get_all()\n",
    "loader.print_info()\n",
    "\n",
    "# # load multiple datasets for evaluation\n",
    "# nameset = [\"beir/msmarco/dev\", \"bier/hotpotqa/dev\", \"bier/climate-fever/dev\"]\n",
    "#\n",
    "# # Dictionary to hold datasets\n",
    "# datasets = {}\n",
    "#\n",
    "# for name in nameset:\n",
    "#     loader = DatasetLoader(name)\n",
    "#     docs, queries, qrels = loader.get_all()\n",
    "#     datasets[name] = {\n",
    "#         \"docs\": docs,\n",
    "#         \"queries\": queries,\n",
    "#         \"qrels\": qrels\n",
    "#     }\n",
    "#     loader.print_info()\n"
   ],
   "id": "initial_id",
   "outputs": [
    {
     "name": "stdout",
     "output_type": "stream",
     "text": [
      "DATASET: cranfield\n",
      "DOCS (1400): ('1', 'experimental investigation of the aerodynamics of a\\nwing in a slipstream .\\n  an experimental study of a wing in a propeller slipstream was\\nmade in order to determine the spanwise distribution of the lift\\nincrease due to slipstream at different angles of attack of the wing\\nand at different free stream to slipstream velocity ratios .  the\\nresults were intended in part as an evaluation basis for different\\ntheoretical treatments of this problem .\\n  the comparative span loading curves, together with\\nsupporting evidence, showed that a substantial part of the lift increment\\nproduced by the slipstream was due to a /destalling/ or\\nboundary-layer-control effect .  the integrated remaining lift\\nincrement, after subtracting this destalling lift, was found to agree\\nwell with a potential flow theory .\\n  an empirical evaluation of the destalling effects was made for\\nthe specific configuration of the experiment .') \n",
      "\n",
      "QUERIES (225): ('1', 'what similarity laws must be obeyed when constructing aeroelastic models\\nof heated high speed aircraft .') \n",
      "\n",
      "QRELS (225): ('1', {'195': 4, '142': 4, '52': 4, '462': 4, '13': 4, '14': 4, '15': 4, '56': 3, '95': 3, '30': 3, '185': 3, '858': 3, '66': 3, '876': 3, '102': 3, '51': 3, '12': 3, '879': 3, '880': 3, '37': 3, '497': 3, '184': 2, '859': 2, '378': 2, '57': 2, '31': 2, '29': 2, '875': 2, '486': -1}) \n",
      "\n"
     ]
    }
   ],
   "execution_count": 1
  },
  {
   "metadata": {},
   "cell_type": "markdown",
   "source": "## Data Preprocessing",
   "id": "27689d18561fefeb"
  },
  {
   "metadata": {
    "ExecuteTime": {
     "end_time": "2025-05-07T00:52:19.839286Z",
     "start_time": "2025-05-07T00:52:19.835332Z"
    }
   },
   "cell_type": "code",
   "source": [
    "# extract document and query IDs + texts for embedding\n",
    "doc_ids, doc_texts = list(docs.keys()), list(docs.values())\n",
    "query_ids, query_texts = list(queries.keys()), list(queries.values())\n"
   ],
   "id": "81e00d907f865a81",
   "outputs": [],
   "execution_count": 2
  },
  {
   "metadata": {},
   "cell_type": "markdown",
   "source": "## Document Embedding",
   "id": "3be1476ef6e7ca04"
  },
  {
   "metadata": {
    "ExecuteTime": {
     "end_time": "2025-05-07T00:53:12.380082Z",
     "start_time": "2025-05-07T00:52:22.466975Z"
    }
   },
   "cell_type": "code",
   "source": [
    "from sentence_transformers import SentenceTransformer\n",
    "import torch\n",
    "# load encoder model pretrained on MS MARCO\n",
    "model_name = \"msmarco-distilbert-base-v2\"\n",
    "model = SentenceTransformer(model_name)\n",
    "\n",
    "# use GPU if available\n",
    "device = \"cuda\" if torch.cuda.is_available() else \"cpu\"\n",
    "batch_size = 32 if device == \"cuda\" else 16\n",
    "model.eval() # put in eval mode to speed up inference\n",
    "\n",
    "# encode documents and queries\n",
    "document_embeddings = model.encode(doc_texts, batch_size=batch_size, convert_to_tensor=True, device=device, show_progress_bar=True)\n",
    "query_embeddings = model.encode(query_texts, batch_size=batch_size, convert_to_tensor=True, device=device, show_progress_bar=True)\n",
    "\n",
    "# convert to numpy array for FAISS\n",
    "doc_embs = document_embeddings.cpu().numpy().astype(\"float32\")\n",
    "query_embs = query_embeddings.cpu().numpy().astype(\"float32\")"
   ],
   "id": "39aac114369a4200",
   "outputs": [
    {
     "data": {
      "text/plain": [
       "Batches:   0%|          | 0/88 [00:00<?, ?it/s]"
      ],
      "application/vnd.jupyter.widget-view+json": {
       "version_major": 2,
       "version_minor": 0,
       "model_id": "10e0d55258fa455282f24a2c1d2849a3"
      }
     },
     "metadata": {},
     "output_type": "display_data"
    },
    {
     "data": {
      "text/plain": [
       "Batches:   0%|          | 0/15 [00:00<?, ?it/s]"
      ],
      "application/vnd.jupyter.widget-view+json": {
       "version_major": 2,
       "version_minor": 0,
       "model_id": "665e5af04c3c40e797675ecb1ba82bea"
      }
     },
     "metadata": {},
     "output_type": "display_data"
    }
   ],
   "execution_count": 3
  },
  {
   "metadata": {},
   "cell_type": "markdown",
   "source": "## Build FAISS Index",
   "id": "4eddcf3b18d99939"
  },
  {
   "metadata": {
    "ExecuteTime": {
     "end_time": "2025-05-07T00:53:16.592955Z",
     "start_time": "2025-05-07T00:53:16.549015Z"
    }
   },
   "cell_type": "code",
   "source": [
    "import faiss\n",
    "\n",
    "# normalize embeddings with faiss\n",
    "faiss.normalize_L2(doc_embs)\n",
    "faiss.normalize_L2(query_embs)\n",
    "\n",
    "# build index, use cosine similarity\n",
    "dim = doc_embs.shape[1]\n",
    "print(dim)\n",
    "index = faiss.IndexFlatIP(dim)\n",
    "index.add(doc_embs)\n"
   ],
   "id": "6427809a7fb07cd7",
   "outputs": [
    {
     "name": "stdout",
     "output_type": "stream",
     "text": [
      "768\n"
     ]
    }
   ],
   "execution_count": 4
  },
  {
   "metadata": {},
   "cell_type": "markdown",
   "source": "## Evaluation",
   "id": "d67c58a609d8787a"
  },
  {
   "metadata": {},
   "cell_type": "markdown",
   "source": "### Retrieval Time",
   "id": "a3d42d5ca82d091c"
  },
  {
   "metadata": {
    "jupyter": {
     "is_executing": true
    },
    "ExecuteTime": {
     "start_time": "2025-05-07T00:53:19.601810Z"
    }
   },
   "cell_type": "code",
   "source": [
    "import time\n",
    "\n",
    "# do KNN Search and return retrieval time\n",
    "k = 5\n",
    "start_time = time.time()\n",
    "distances, indices = index.search(query_embs, k)\n",
    "retrieval_time = (time.time() - start_time) / len(query_ids)\n",
    "print(f\"Retrieval time per query: {retrieval_time:.4f} seconds\")"
   ],
   "id": "a30f445bf5af4614",
   "outputs": [],
   "execution_count": null
  },
  {
   "metadata": {},
   "cell_type": "markdown",
   "source": "### Mean Reciprocal Rank (MRR)",
   "id": "2b73ff489de39052"
  },
  {
   "metadata": {},
   "cell_type": "code",
   "outputs": [],
   "execution_count": null,
   "source": [
    "from ranx import Run, evaluate\n",
    "\n",
    "# calculate MRR\n",
    "\n",
    "# Run: stores the relevance scores estimated by the model under evaluation\n",
    "# map results for each query_id -> { doc_id: score }\n",
    "run = {\n",
    "    query_ids[i]: {\n",
    "        doc_ids[indices[i][j]]: -float(distances[i][j]) for j in range(k) # use negative distance as ranx interprets higher score = higher rank\n",
    "    }\n",
    "    for i in range(len(query_ids))\n",
    "}\n",
    "run_rx = Run(run)\n",
    "\n",
    "# measure MRR\n",
    "mrr = evaluate(qrels, run_rx, \"mrr\", make_comparable=True)\n",
    "print(f\"MRR: {mrr:.4f}\")\n"
   ],
   "id": "35ff9ccd078436fb"
  }
 ],
 "metadata": {
  "kernelspec": {
   "display_name": "Python 3",
   "language": "python",
   "name": "python3"
  },
  "language_info": {
   "codemirror_mode": {
    "name": "ipython",
    "version": 2
   },
   "file_extension": ".py",
   "mimetype": "text/x-python",
   "name": "python",
   "nbconvert_exporter": "python",
   "pygments_lexer": "ipython2",
   "version": "2.7.6"
  }
 },
 "nbformat": 4,
 "nbformat_minor": 5
}
