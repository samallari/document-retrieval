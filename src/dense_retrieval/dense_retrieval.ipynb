{
 "cells": [
  {
   "cell_type": "markdown",
   "id": "e46a222a",
   "metadata": {},
   "source": [
    "## Dense Retrieval\n",
    "Implementation of dense passage retrieval using a SOTA sentence embedding model and FAISS for retrieval. Evaluated on the MS MARCO dataset using MRR and retrieval time. "
   ]
  },
  {
   "cell_type": "code",
   "execution_count": null,
   "id": "48e52ddf",
   "metadata": {},
   "outputs": [],
   "source": [
    "from datasets import load_dataset\n",
    "from sentence_transformers import SentenceTransformer\n",
    "from transformers import AutoTokenizer\n",
    "import torch\n",
    "import faiss\n",
    "import time\n",
    "import pandas as pd\n",
    "import numpy as np"
   ]
  },
  {
   "cell_type": "code",
   "execution_count": null,
   "id": "5fc148aa",
   "metadata": {},
   "outputs": [],
   "source": [
    "# load MSMARCO dataset\n",
    "dataset = load_dataset(\"ms_marco\", \"v2.1\")\n",
    "train_dataset = dataset[\"train\"]\n",
    "eval_dataset = dataset[\"validation\"]\n",
    "test_dataset = dataset[\"test\"]"
   ]
  },
  {
   "cell_type": "code",
   "execution_count": null,
   "id": "36a42fc3",
   "metadata": {},
   "outputs": [],
   "source": [
    "skip_cell = True\n",
    "if not skip_cell:\n",
    "    # display dataset information\n",
    "    print(\"Train dataset size:\", len(train_dataset))\n",
    "    print(\"Validation dataset size:\", len(eval_dataset))\n",
    "    print(\"Test dataset size:\", len(test_dataset))\n",
    "\n",
    "    # print column labels\n",
    "    print(\"Train dataset columns:\", train_dataset.column_names, \"\\n\")\n",
    "\n",
    "    # print sample from the train dataset\n",
    "    for col in train_dataset.column_names:\n",
    "        print(f\"Sample {col}: {train_dataset[0][col]}\")\n"
   ]
  },
  {
   "cell_type": "code",
   "execution_count": null,
   "id": "3a18a168",
   "metadata": {},
   "outputs": [],
   "source": [
    "def preprocess(data):\n",
    "    \"\"\"\n",
    "    Preprocesses the MS MARCO dataset, extracting queries and passages.\n",
    "    \"\"\"\n",
    "    queries = []\n",
    "    passages = []\n",
    "    # For training data, we need to extract queries and positive passages\n",
    "    if \"answers\" in data.features:\n",
    "        for item in data:\n",
    "            queries.append(item[\"query\"])\n",
    "            # In training, we will use the first passage as the positive passage.\n",
    "            # in test and validation, we would need to do this differently.\n",
    "            if len(item[\"passages\"][\"passage_text\"]) > 0:\n",
    "                passages.extend(item[\"passages\"][\"passage_text\"])\n",
    "\n",
    "    # For validation and test, we need to extract only queries and passages\n",
    "    else:\n",
    "        for item in data:\n",
    "            queries.append(item[\"query\"])\n",
    "            if len(item[\"passages\"][\"passage_text\"]) > 0:\n",
    "                passages.extend(item[\"passages\"][\"passage_text\"])\n",
    "    return queries, passages\n",
    "\n",
    "# Preprocess the train, validation, and test datasets\n",
    "train_queries, train_passages = preprocess(train_dataset)\n",
    "validation_queries, validation_passages = preprocess(eval_dataset)\n",
    "test_queries, test_passages = preprocess(test_dataset)\n",
    "\n",
    "# Example of the first training query and passage\n",
    "print(\"\\nExample:\")\n",
    "print(f\"Query: {train_queries[0]}\")\n",
    "print(f\"Passage: {train_passages[0]}\")   "
   ]
  },
  {
   "cell_type": "code",
   "execution_count": null,
   "id": "d82d6b2b",
   "metadata": {},
   "outputs": [],
   "source": [
    "# generate document embeddings with SOTA model\n",
    "model_name = \"all-MiniLM-L6-v2\"\n",
    "device = \"cuda\" if torch.cuda.is_available() else \"cpu\"\n",
    "\n",
    "model = SentenceTransformer(model_name)\n",
    "model.to(device)\n",
    "\n",
    "def generate_embeddings(model, texts):\n",
    "    \"\"\"\n",
    "    Generates embeddings for a list of texts using the given model.\n",
    "    \"\"\"\n",
    "    embeddings = model.encode(texts, convert_to_tensor=False)\n",
    "    return np.array(embeddings)\n",
    "\n",
    "# Generate embeddings for training data\n",
    "train_query_embeddings = generate_embeddings(model, train_queries)\n",
    "train_passage_embeddings = generate_embeddings(model, train_passages)\n",
    "\n",
    "# Generate embeddings for validation data\n",
    "validation_query_embeddings = generate_embeddings(model, validation_queries)\n",
    "validation_passage_embeddings = generate_embeddings(model, validation_passages)\n",
    "\n",
    "# Generate embeddings for test data\n",
    "test_query_embeddings = generate_embeddings(model, test_queries)\n",
    "test_passage_embeddings = generate_embeddings(model, test_passages)\n"
   ]
  }
 ],
 "metadata": {
  "kernelspec": {
   "display_name": "cuda",
   "language": "python",
   "name": "cuda"
  },
  "language_info": {
   "codemirror_mode": {
    "name": "ipython",
    "version": 3
   },
   "file_extension": ".py",
   "mimetype": "text/x-python",
   "name": "python",
   "nbconvert_exporter": "python",
   "pygments_lexer": "ipython3",
   "version": "3.10.11"
  }
 },
 "nbformat": 4,
 "nbformat_minor": 5
}
