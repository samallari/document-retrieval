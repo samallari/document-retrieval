{
 "cells": [
  {
   "metadata": {},
   "cell_type": "markdown",
   "source": [
    "# Dense Retrieval\n",
    "Implementation of dense passage retrieval using DistilBERT and FAISS. Evaluated on the MS MARCO dataset using MRR and retrieval time.\n"
   ],
   "id": "337d670bef39b9"
  },
  {
   "metadata": {},
   "cell_type": "markdown",
   "source": "## Load Dataset",
   "id": "c4a3a069c56effd"
  },
  {
   "metadata": {
    "ExecuteTime": {
     "end_time": "2025-05-07T02:25:03.340775Z",
     "start_time": "2025-05-07T02:25:03.188181Z"
    }
   },
   "cell_type": "code",
   "source": [
    "from src.dataset_loader import DatasetLoader\n",
    "\n",
    "# Load cranfield dataset for testing functions, use MS MARCO, HotpotQA, and potentially Climate-FEVER for real evaluation\n",
    "loader = DatasetLoader(\"cranfield\")\n",
    "docs, queries, qrels = loader.get_all()\n",
    "loader.print_info()\n",
    "\n",
    "# # load multiple datasets for evaluation\n",
    "# nameset = [\"beir/msmarco/dev\", \"bier/hotpotqa/dev\", \"bier/climate-fever/dev\"]\n",
    "#\n",
    "# # Dictionary to hold datasets\n",
    "# datasets = {}\n",
    "#\n",
    "# for name in nameset:\n",
    "#     loader = DatasetLoader(name)\n",
    "#     docs, queries, qrels = loader.get_all()\n",
    "#     datasets[name] = {\n",
    "#         \"docs\": docs,\n",
    "#         \"queries\": queries,\n",
    "#         \"qrels\": qrels\n",
    "#     }\n",
    "#     loader.print_info()\n"
   ],
   "id": "initial_id",
   "outputs": [
    {
     "name": "stdout",
     "output_type": "stream",
     "text": [
      "DATASET: cranfield\n",
      "DOCS (1400): ('1', 'experimental investigation of the aerodynamics of a\\nwing in a slipstream .\\n  an experimental study of a wing in a propeller slipstream was\\nmade in order to determine the spanwise distribution of the lift\\nincrease due to slipstream at different angles of attack of the wing\\nand at different free stream to slipstream velocity ratios .  the\\nresults were intended in part as an evaluation basis for different\\ntheoretical treatments of this problem .\\n  the comparative span loading curves, together with\\nsupporting evidence, showed that a substantial part of the lift increment\\nproduced by the slipstream was due to a /destalling/ or\\nboundary-layer-control effect .  the integrated remaining lift\\nincrement, after subtracting this destalling lift, was found to agree\\nwell with a potential flow theory .\\n  an empirical evaluation of the destalling effects was made for\\nthe specific configuration of the experiment .') \n",
      "\n",
      "QUERIES (225): ('1', 'what similarity laws must be obeyed when constructing aeroelastic models\\nof heated high speed aircraft .') \n",
      "\n",
      "QRELS (225): ('1', {'195': 4, '142': 4, '52': 4, '462': 4, '13': 4, '14': 4, '15': 4, '56': 3, '95': 3, '30': 3, '185': 3, '858': 3, '66': 3, '876': 3, '102': 3, '51': 3, '12': 3, '879': 3, '880': 3, '37': 3, '497': 3, '184': 2, '859': 2, '378': 2, '57': 2, '31': 2, '29': 2, '875': 2, '486': -1}) \n",
      "\n"
     ]
    }
   ],
   "execution_count": 14
  },
  {
   "metadata": {},
   "cell_type": "markdown",
   "source": "## Data Preprocessing",
   "id": "27689d18561fefeb"
  },
  {
   "metadata": {
    "ExecuteTime": {
     "end_time": "2025-05-07T02:25:05.683487Z",
     "start_time": "2025-05-07T02:25:05.672824Z"
    }
   },
   "cell_type": "code",
   "source": [
    "# extract document and query IDs + texts for embedding\n",
    "doc_ids, doc_texts = list(docs.keys()), list(docs.values())\n",
    "query_ids, query_texts = list(queries.keys()), list(queries.values())\n",
    "\n",
    "print(doc_ids[:5])\n",
    "print(doc_texts[:5])\n",
    "\n",
    "print(query_ids[:5])\n",
    "print(query_texts[:5])\n"
   ],
   "id": "81e00d907f865a81",
   "outputs": [
    {
     "name": "stdout",
     "output_type": "stream",
     "text": [
      "['1', '2', '3', '4', '5']\n",
      "['experimental investigation of the aerodynamics of a\\nwing in a slipstream .\\n  an experimental study of a wing in a propeller slipstream was\\nmade in order to determine the spanwise distribution of the lift\\nincrease due to slipstream at different angles of attack of the wing\\nand at different free stream to slipstream velocity ratios .  the\\nresults were intended in part as an evaluation basis for different\\ntheoretical treatments of this problem .\\n  the comparative span loading curves, together with\\nsupporting evidence, showed that a substantial part of the lift increment\\nproduced by the slipstream was due to a /destalling/ or\\nboundary-layer-control effect .  the integrated remaining lift\\nincrement, after subtracting this destalling lift, was found to agree\\nwell with a potential flow theory .\\n  an empirical evaluation of the destalling effects was made for\\nthe specific configuration of the experiment .', \"simple shear flow past a flat plate in an incompressible fluid of small\\nviscosity .\\nin the study of high-speed viscous flow past a two-dimensional body it\\nis usually necessary to consider a curved shock wave emitting from the\\nnose or leading edge of the body .  consequently, there exists an\\ninviscid rotational flow region between the shock wave and the boundary\\nlayer .  such a situation arises, for instance, in the study of the\\nhypersonic viscous flow past a flat plate .  the situation is somewhat\\ndifferent from prandtl's classical boundary-layer problem . in prandtl's\\noriginal problem the inviscid free stream outside the boundary layer is\\nirrotational while in a hypersonic boundary-layer problem the inviscid\\nfree stream must be considered as rotational .  the possible effects of\\nvorticity have been recently discussed by ferri and libby .  in the\\npresent paper, the simple shear flow past a flat plate in a fluid of small\\nviscosity is investigated .  it can be shown that this problem can again\\nbe treated by the boundary-layer approximation, the only novel feature\\nbeing that the free stream has a constant vorticity .  the discussion\\nhere is restricted to two-dimensional incompressible steady flow .\", 'the boundary layer in simple shear flow past a flat plate .\\nthe boundary-layer equations are presented for steady\\nincompressible flow with no pressure gradient .', 'approximate solutions of the incompressible laminar\\nboundary layer equations for a plate in shear flow .\\n  the two-dimensional steady boundary-layer\\nproblem for a flat plate in a\\nshear flow of incompressible fluid is considered .\\nsolutions for the boundary-\\nlayer thickness, skin friction, and the velocity\\ndistribution in the boundary\\nlayer are obtained by the karman-pohlhausen\\ntechnique .  comparison with\\nthe boundary layer of a uniform flow has also\\nbeen made to show the effect of\\nvorticity .', 'one-dimensional transient heat conduction into a double-layer\\nslab subjected to a linear heat input for a small time\\ninternal .\\n  analytic solutions are presented for the transient heat\\nconduction in composite slabs exposed at one surface to a\\ntriangular heat rate .  this type of heating rate may occur, for\\nexample, during aerodynamic heating .']\n",
      "['1', '2', '3', '4', '5']\n",
      "['what similarity laws must be obeyed when constructing aeroelastic models\\nof heated high speed aircraft .', 'what are the structural and aeroelastic problems associated with flight\\nof high speed aircraft .', 'what problems of heat conduction in composite slabs have been solved so\\nfar .', 'can a criterion be developed to show empirically the validity of flow\\nsolutions for chemically reacting gas mixtures based on the simplifying\\nassumption of instantaneous local chemical equilibrium .', 'what chemical kinetic system is applicable to hypersonic aerodynamic\\nproblems .']\n"
     ]
    }
   ],
   "execution_count": 15
  },
  {
   "metadata": {},
   "cell_type": "markdown",
   "source": "## Document Embedding",
   "id": "3be1476ef6e7ca04"
  },
  {
   "metadata": {
    "ExecuteTime": {
     "end_time": "2025-05-07T02:25:57.472909Z",
     "start_time": "2025-05-07T02:25:07.631875Z"
    }
   },
   "cell_type": "code",
   "source": [
    "from sentence_transformers import SentenceTransformer\n",
    "import torch\n",
    "# load encoder model pretrained on MS MARCO\n",
    "model_name = \"msmarco-distilbert-base-v2\"\n",
    "model = SentenceTransformer(model_name)\n",
    "\n",
    "# use GPU if available\n",
    "device = \"cuda\" if torch.cuda.is_available() else \"cpu\"\n",
    "batch_size = 32 if device == \"cuda\" else 16\n",
    "model.eval() # put in eval mode to speed up inference\n",
    "\n",
    "# encode documents and queries\n",
    "document_embeddings = model.encode(doc_texts, batch_size=batch_size, convert_to_tensor=True, device=device, show_progress_bar=True)\n",
    "query_embeddings = model.encode(query_texts, batch_size=batch_size, convert_to_tensor=True, device=device, show_progress_bar=True)\n",
    "\n",
    "# convert to numpy array for FAISS\n",
    "doc_embs = document_embeddings.cpu().numpy().astype(\"float32\")\n",
    "query_embs = query_embeddings.cpu().numpy().astype(\"float32\")"
   ],
   "id": "39aac114369a4200",
   "outputs": [
    {
     "data": {
      "text/plain": [
       "Batches:   0%|          | 0/88 [00:00<?, ?it/s]"
      ],
      "application/vnd.jupyter.widget-view+json": {
       "version_major": 2,
       "version_minor": 0,
       "model_id": "acaacf574e64479a94a3f311f1e1a370"
      }
     },
     "metadata": {},
     "output_type": "display_data"
    },
    {
     "data": {
      "text/plain": [
       "Batches:   0%|          | 0/15 [00:00<?, ?it/s]"
      ],
      "application/vnd.jupyter.widget-view+json": {
       "version_major": 2,
       "version_minor": 0,
       "model_id": "8d2465fa177c4d3c9ccbf220508cfd44"
      }
     },
     "metadata": {},
     "output_type": "display_data"
    }
   ],
   "execution_count": 16
  },
  {
   "metadata": {},
   "cell_type": "markdown",
   "source": "## Build FAISS Index",
   "id": "4eddcf3b18d99939"
  },
  {
   "metadata": {
    "ExecuteTime": {
     "end_time": "2025-05-07T01:17:39.870908Z",
     "start_time": "2025-05-07T01:17:39.814854Z"
    }
   },
   "cell_type": "code",
   "source": [
    "import faiss\n",
    "\n",
    "# normalize embeddings with faiss\n",
    "faiss.normalize_L2(doc_embs)\n",
    "faiss.normalize_L2(query_embs)\n",
    "\n",
    "# build index, use cosine similarity\n",
    "dim = doc_embs.shape[1]\n",
    "print(dim)\n",
    "\n",
    "index = faiss.IndexFlatIP(dim)\n",
    "index.add(doc_embs)\n",
    "print(index.ntotal)\n"
   ],
   "id": "6427809a7fb07cd7",
   "outputs": [
    {
     "name": "stdout",
     "output_type": "stream",
     "text": [
      "768\n",
      "1400\n"
     ]
    }
   ],
   "execution_count": 11
  },
  {
   "metadata": {
    "ExecuteTime": {
     "end_time": "2025-05-07T01:18:00.117036Z",
     "start_time": "2025-05-07T01:18:00.114034Z"
    }
   },
   "cell_type": "code",
   "source": [
    "print(doc_embs.shape)\n",
    "print(query_embs.shape)"
   ],
   "id": "5b7adf1790c1aa74",
   "outputs": [
    {
     "name": "stdout",
     "output_type": "stream",
     "text": [
      "(1400, 768)\n",
      "(225, 768)\n"
     ]
    }
   ],
   "execution_count": 13
  },
  {
   "metadata": {},
   "cell_type": "markdown",
   "source": "## Evaluation",
   "id": "d67c58a609d8787a"
  },
  {
   "metadata": {},
   "cell_type": "markdown",
   "source": "### Retrieval Time",
   "id": "a3d42d5ca82d091c"
  },
  {
   "metadata": {
    "ExecuteTime": {
     "end_time": "2025-05-07T01:10:46.004434Z",
     "start_time": "2025-05-07T01:10:46.000771Z"
    }
   },
   "cell_type": "code",
   "source": [
    "import time\n",
    "\n",
    "# do KNN Search and return retrieval time\n",
    "k = 10\n",
    "start_time = time.time()\n",
    "distances, indices = index.search(query_embs, k)\n",
    "retrieval_time = (time.time() - start_time) / len(query_ids)\n",
    "print(f\"Retrieval time per query: {retrieval_time:.6f} seconds\")"
   ],
   "id": "f2e4b89791c2f550",
   "outputs": [],
   "execution_count": 5
  },
  {
   "metadata": {},
   "cell_type": "markdown",
   "source": "### Mean Reciprocal Rank (MRR)",
   "id": "2b73ff489de39052"
  },
  {
   "metadata": {},
   "cell_type": "code",
   "outputs": [],
   "execution_count": null,
   "source": [
    "from ranx import Run, evaluate\n",
    "\n",
    "# calculate MRR\n",
    "\n",
    "# Run: stores the relevance scores estimated by the model under evaluation\n",
    "# map results for each query_id -> { doc_id: score }\n",
    "run = {\n",
    "    query_ids[i]: {\n",
    "        doc_ids[indices[i][j]]: float(distances[i][j]) for j in range(k)\n",
    "    }\n",
    "    for i in range(len(query_ids))\n",
    "}\n",
    "run_rx = Run(run)\n",
    "\n",
    "# measure MRR\n",
    "mrr = evaluate(qrels, run_rx, \"mrr\", make_comparable=True)\n",
    "print(f\"MRR: {mrr:.4f}\")\n"
   ],
   "id": "35ff9ccd078436fb"
  }
 ],
 "metadata": {
  "kernelspec": {
   "display_name": "Python 3",
   "language": "python",
   "name": "python3"
  },
  "language_info": {
   "codemirror_mode": {
    "name": "ipython",
    "version": 2
   },
   "file_extension": ".py",
   "mimetype": "text/x-python",
   "name": "python",
   "nbconvert_exporter": "python",
   "pygments_lexer": "ipython2",
   "version": "2.7.6"
  }
 },
 "nbformat": 4,
 "nbformat_minor": 5
}
