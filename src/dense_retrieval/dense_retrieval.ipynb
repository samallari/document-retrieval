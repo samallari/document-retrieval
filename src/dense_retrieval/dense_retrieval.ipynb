{
 "cells": [
  {
   "cell_type": "markdown",
   "id": "e46a222a",
   "metadata": {
    "id": "e46a222a"
   },
   "source": [
    "## Dense Retrieval\n",
    "Implementation of dense passage retrieval using a SOTA sentence embedding model and FAISS for retrieval. Evaluated on the MS MARCO dataset using MRR and retrieval time."
   ]
  },
  {
   "cell_type": "code",
   "id": "48e52ddf",
   "metadata": {
    "id": "48e52ddf",
    "outputId": "ad82de03-d5b9-4463-87b8-7d32dd370eba",
    "colab": {
     "base_uri": "https://localhost:8080/"
    },
    "ExecuteTime": {
     "end_time": "2025-05-01T12:17:20.562547Z",
     "start_time": "2025-05-01T12:17:20.549891Z"
    }
   },
   "source": [
    "!pip install -r requirements.txt -q # upload requirements.txt then uncomment for colab\n",
    "\n",
    "from sentence_transformers import SentenceTransformer\n",
    "import torch\n",
    "import faiss\n",
    "import time\n",
    "import pandas as pd\n",
    "import numpy as np"
   ],
   "outputs": [
    {
     "output_type": "stream",
     "name": "stdout",
     "text": [
      "\u001B[2K   \u001B[90m━━━━━━━━━━━━━━━━━━━━━━━━━━━━━━━━━━━━━━━━\u001B[0m \u001B[32m53.6/53.6 MB\u001B[0m \u001B[31m41.7 MB/s\u001B[0m eta \u001B[36m0:00:00\u001B[0m\n",
      "\u001B[?25h"
     ]
    }
   ],
   "execution_count": 12
  },
  {
   "metadata": {
    "id": "857f5391999bfc27"
   },
   "cell_type": "markdown",
   "source": [
    "## Load MS MARCO Dataset + Data Preprocessing"
   ],
   "id": "857f5391999bfc27"
  },
  {
   "cell_type": "code",
   "id": "5fc148aa",
   "metadata": {
    "id": "5fc148aa",
    "outputId": "72f36337-dd6a-417b-821f-16dbf21b36f1",
    "colab": {
     "base_uri": "https://localhost:8080/"
    },
    "ExecuteTime": {
     "end_time": "2025-05-01T12:17:34.189947Z",
     "start_time": "2025-05-01T12:17:26.022711Z"
    }
   },
   "source": [
    "from datasets import load_dataset\n",
    "\n",
    "# load MS MARCO dataset (use 10% of the dataset for testing)\n",
    "docs_dataset = load_dataset(\"sentence-transformers/msmarco\", \"corpus\", split=\"train[:10%]\")\n",
    "queries_dataset = load_dataset(\"sentence-transformers/msmarco\", \"queries\", split=\"train[:10%]\")\n",
    "qrels_dataset = load_dataset(\"sentence-transformers/msmarco\", \"labeled-list\", split=\"train[:10%]\")\n",
    "\n",
    "print(\"corpus labels:\", docs_dataset.column_names)\n",
    "print(\"queries labels:\", queries_dataset.column_names)\n",
    "print(\"qrels labels:\", qrels_dataset.column_names)\n",
    "\n",
    "print(\"corpus:\", docs_dataset[0])\n",
    "print(\"queries:\", queries_dataset[0])\n",
    "print(\"qrels:\", qrels_dataset[0])\n"
   ],
   "outputs": [
    {
     "output_type": "stream",
     "name": "stdout",
     "text": [
      "corpus labels: ['passage_id', 'passage']\n",
      "queries labels: ['query_id', 'query']\n",
      "qrels labels: ['query_id', 'doc_ids', 'labels']\n",
      "corpus: {'passage_id': '0', 'passage': 'The presence of communication amid scientific minds was equally important to the success of the Manhattan Project as scientific intellect was. The only cloud hanging over the impressive achievement of the atomic researchers and engineers is what their success truly meant; hundreds of thousands of innocent lives obliterated.'}\n",
      "queries: {'query_id': '121352', 'query': 'define extreme'}\n",
      "qrels: {'query_id': '100', 'doc_ids': ['3837260', '7854412', '4778006', '7929416', '5833477', '2715823', '903728', '1418399', '2544108', '4592808', '3565885', '260356', '5885724', '2976754', '3530456', '903722', '5136237', '6166367', '5372728', '6166373', '1615726', '5909725', '3278290', '570067', '2628703', '3619930', '3282101', '570061', '1442855', '5293099', '3976606', '3542912', '4358422', '4729309', '3542156', '102825', '2141701', '5885727', '1007725', '5137341', '180070', '2107140', '4942724', '3915139', '7417638', '7426645', '393085', '3129231', '4905980', '3181468', '7218730', '7159323', '5071423', '1609775', '3476284', '2876976', '6064616', '2752167', '5833480', '5451115', '6052155', '6551293', '2710795', '3231730', '1111340', '7885924', '2822828', '3034062', '3515232', '987726', '3129232', '4066994', '3680517', '6560480', '4584385', '5786855', '6117953', '8788361', '1960434', '212333', '7596616', '8433601', '3070543', '3282099', '5559299', '4070401', '5728025', '4584386', '8614523', '7452451', '3059713', '6401629', '6226845', '2710798', '458688', '207737', '5947749', '1615249', '5054795', '6646948', '4222935', '570068', '5860279', '8411096', '2882722', '3660786', '4711085', '4895219', '4929884', '5615159', '6845998', '1460725', '4433443', '5833479', '3542152', '2565332', '6311315', '4021935', '2616000', '7274494', '5241413', '6259470', '1488609', '187116', '8269268', '2399643', '2711733', '987725', '8788355', '7162594', '1164463', '5546714', '180065', '8467768', '4732466', '63493', '2595189', '3314126', '7426649', '856238', '7266280', '7745447', '7900007', '5035510', '373356', '2615996', '987731', '2904166', '4021933', '8149937', '5786854', '3542915', '1922026', '2743264', '4021930', '2821183', '3359767', '2686007', '6241706', '2544107', '2565334', '3070862', '5673424', '1868516', '879518', '2710801', '2878133', '5506342', '7279044', '260357', '1418394', '4198047', '8811927', '6447579', '3187998', '8489919', '2876695', '4641223', '5095750', '1366894', '5343128', '4167730', '4041435', '5676056', '6979590', '8763883', '5915554', '5060317', '8214795', '4932622', '4147294', '6546696', '3909088', '3397816', '4592804', '2268176', '328471', '6695311', '4090950', '2605356', '442753', '2978405', '890707', '3712000', '7227702', '1753582', '3582358', '8091295', '2601271', '3417484', '3450889', '3381536', '8788358', '4869670', '2969334', '8584693', '3026231', '4616200', '4967138', '1668186', '4346365', '4040376', '4655172', '6659144', '3241644', '4337017', '6733817', '8488585', '2701398', '987728', '7021467', '4879063', '5449524', '4043058', '7876390', '3708326', '3202726', '6267835', '7452454', '4111901', '4584380', '2898746', '1770226', '5786858', '2904167', '3767056', '3837262', '8696128', '8714806', '5974586', '4770734', '8614528', '6715004', '5559298', '5522820', '4494346', '4802607', '3505959', '4943876', '5762512', '7900010', '7614375', '641869', '611056', '1620088', '7044504', '5903693', '6470341', '5885731', '2411293', '1729708', '2723955', '4684463', '7632692', '7300912', '570062', '5786857', '1729712', '2859721', '224598', '8049838', '8757368', '2553525', '4276769', '3476280', '5673427', '6196257', '3529315', '1042349', '1008571', '604128', '1274276', '6976077', '558781', '1417835', '8746383', '6534823', '2544102', '4892920', '5326560', '3529311', '8288714', '8410908', '7541381', '8276461', '443963', '1418786', '393082', '2876973', '2041868', '4684460', '2553455', '4294336', '1770227', '1396675', '4821482', '341684', '3317707', '7758155', '1680750', '978378', '4641573', '6447578', '3572351', '7074859', '6560473', '2059066', '7681590', '6241703', '1425182', '941495', '4898655', '2710799', '3694312', '2565339', '5886217', '6997080', '570064', '5697987', '4058317', '3059711', '5540787', '4914280', '413609', '8149940', '2828604', '903721', '4130056', '7126261', '4294342', '4357509', '2041870', '3537437', '1274279', '442759', '3574934', '7007240', '2828792', '4040360', '5504280', '7803953', '6668972', '1698637', '4639591', '782719', '2144188', '3562506', '5287734', '6183651', '7048806', '2628701', '3282102', '7428497', '8503034', '7173876', '3910109', '7900005', '2929050', '2422821', '1753368', '4639589', '7098652', '7969224', '1640132', '6182438', '4981517', '478505', '3404202', '2469894', '5422545', '1164461', '563620', '8602235', '6905110', '260355', '1928946', '2970078', '903729', '2943399', '6990940', '4378415', '3488844', '4748532', '2660195', '357356', '429500', '1729469', '6936575', '3837268', '7133186', '4214920', '5372162', '3428653', '5209141', '6117958', '8165720', '6715084', '6220994', '6801444', '4791658', '4778011', '2553534', '3905953', '6102139', '2370329', '6668971', '2828788', '2844459', '2041872', '4270591', '926981', '8165084', '4381190', '7740134', '8592605', '5156554', '1993432', '2904162', '3837261', '4641221', '4609663', '1925807', '2059063', '5168436', '401623', '1854833', '4655167', '4127921', '4584387', '1425176', '7212830', '4045409', '2863533', '6718879', '3278292', '2244466', '5161597', '1164462', '5870980', '7883558', '3129235', '3837265', '7476186', '3161580', '5449523', '519516', '685140', '5343127', '3304414', '7758154', '235363', '5095754', '4112274', '7300909', '8592603', '8035150', '6052157', '6307419', '207739', '6220993', '386576', '1425177', '1709605', '7562137', '3417479', '987733', '1113623', '5885728', '7816675', '5559303', '424024', '7452453', '7300910', '7072423', '3359765', '6990938', '872482', '4892919', '4942267', '987179', '1396676', '4647425', '6026592', '8430156', '8415731', '2059058', '7949973', '8714805', '7160656', '3282107', '6430813', '4624121', '8614526', '6560476', '5904531', '1736796', '2943403', '8614524', '3856628', '5425825', '4301955', '1960428', '4198046', '1319052', '1236547', '6064613', '2544106', '6226846', '3407251', '7101275', '3928646', '4932629', '4641222', '1770224', '2864823', '5559302', '4791657', '1086512', '6385449', '5927021', '7553032', '260359', '3059706', '4592809', '2504367', '5572084', '3231724', '3542151', '3419457', '7460828', '4778008', '6695308', '6285584', '2562236', '5449527', '3083530', '7264931', '5934860', '2615997', '1425180', '6447581', '3474330', '6063973', '903730', '6395414', '8763555', '3841369', '6733815', '2735696', '811438', '3409169', '1735575', '5148194', '4502897', '926980', '3717515', '572995', '903726', '63492', '3059708', '2951653', '6751200', '3951499', '7402067', '6692933', '5559296', '1636630', '6408893', '5483639', '2876704', '4734029', '8091999', '393083', '3529312', '6953126', '2411292', '6904243', '5577720', '21827', '4188071', '3070541', '655643', '4294334', '1922023', '184834', '1909625', '7403766', '6171714', '6615681', '3282108', '3059178', '3220639', '2710796', '8049834', '1534446', '146937', '2904170', '4781986', '1247371', '6042881', '3538804', '1210555', '2020084', '3129233', '5007960', '1922027', '317861', '7226653', '207734', '6733814', '6214585', '5373863', '2272409', '1753576', '5286536', '903723', '2616001', '1620083', '3861147', '442756', '2475844', '3145217', '599694', '1799545', '2553531', '1573123', '4276764', '4674924', '2904164', '6052158', '1735568', '6560481', '808526', '2544103', '2615640', '4940921', '8714801', '3070861', '2598167', '1358786', '2635123', '2977588', '4648965', '1425178', '7888864', '8744226', '4630697', '5372731', '4632610', '6990933', '6510260', '1733784', '519518', '1922019', '1425175', '925506', '5286618', '3523560', '1960052', '6226842', '2735698', '6938823', '3708010', '4774546', '7831509', '2616002', '8138906', '8048048', '4375739', '1113853', '7831797', '8430159', '2617359', '7197980', '890700', '4198045', '1922022', '6480031', '4778005', '5434672', '5106779', '1113854', '8782468', '4778014', '4584382', '2904163', '1319048', '3746541', '7197976', '1729706', '207736', '7700674', '442751', '2876702', '8366443', '5148192', '872477', '2601268', '8426337', '7274672', '6724762', '3282100', '6844846', '2411294', '2437024', '413607', '6214583', '7241863', '5060319', '1733789', '5477181', '3841373', '599686', '1822109', '6016976', '7710638', '2969339', '317867', '3889980', '6202558', '1922028', '3068679', '6267107', '4778010', '1164456', '2949959', '3770664', '8830401', '5447370', '2654076', '3837264', '514105', '1623873', '2667055', '1706867', '7394057', '4914279', '6179258', '7241866', '7606221', '863939', '572998', '6307420', '3278288', '7636863', '1833550', '7300908', '6659143', '903724', '7274675', '2041874', '7274491', '6052159', '6064611', '5315118', '7452457', '1733790', '7085674', '5607469', '6715080', '7528693', '6151450', '6936572', '8291592', '6052154', '2628704', '5094428', '2544101', '5209142', '2448798', '4898658', '447958', '3907349', '3837266', '1729705', '2615998', '4641225', '1729473', '4294341', '4660588', '3070863', '8141684', '3751274', '325570', '4802602', '903725', '4851378', '5030094', '3069335', '3654662', '6551284', '5777752', '4641228', '4767985', '1964628', '5559295', '8344779', '1481317', '570063', '5422544', '4793008', '2544105', '7288672', '4767982', '8342090', '7160653', '7300914', '1206739', '5425329', '8325658', '6052156', '6668963', '442755', '2240500', '4647422', '6878782', '4040434', '4358312', '8204234', '8512015', '63496', '7229500', '7182554', '6151448', '5974582', '7173877', '8092000', '7212835', '3199491', '393998', '8035146', '1396680', '2735697', '925501', '1922025', '5885730', '1729713', '2755336', '7138459', '570070', '4021934', '903727', '6268913', '4739388', '7241868', '4030464', '2951657', '5974587', '1332617', '3869948', '8705052', '7266276', '7900253', '1614143', '5422548', '1272014', '7861061', '1998585', '3359677', '3985679', '3359768', '519514', '3841374', '3120523', '4021936', '1729707', '1440281', '558784', '5432868', '3205742', '4632606', '5950757', '8419081', '1733791', '4684461', '8049837', '1586152', '4045410', '6447577', '5521525', '2335443', '3311387', '4045403', '1922020', '7488188', '3713391', '1425179', '2859933', '1941737', '3557852', '6361227', '7226652', '5596636', '6165753', '4021931', '8614521', '3542911', '3010907', '3059705', '545587', '5969529', '6560475', '4378414', '570065', '8426345', '7892254', '3059707', '1922024', '1440190', '8149931', '7197977', '2283513', '2978402', '1137959', '3542917', '1615721', '4294340', '3282103', '7976948', '5227466', '2411296', '3492171', '6560474', '977993', '1846450', '8101033', '4356464', '7887336', '36611', '7203435', '5564079', '224596', '7300911', '5886218', '6165751', '4462443', '4684459', '3417478', '2951654', '3186729', '3239802', '3708321', '7664369', '2107143', '6300526', '3289374', '3059710', '4147291', '4641226', '2274293', '5559300', '3770671', '8398154', '488886', '6241704', '2555898', '3488845', '3630018', '1677477', '4639587', '2601269', '1693298', '5424209', '7816672', '8788359', '3428649', '3231726', '2710794', '4329499', '8115452', '6259463', '6285580', '8605584', '3059709', '4270589', '2555856', '2424358', '4211101', '1922021', '4432101'], 'labels': [1, 0, 0, 0, 0, 0, 0, 0, 0, 0, 0, 0, 0, 0, 0, 0, 0, 0, 0, 0, 0, 0, 0, 0, 0, 0, 0, 0, 0, 0, 0, 0, 0, 0, 0, 0, 0, 0, 0, 0, 0, 0, 0, 0, 0, 0, 0, 0, 0, 0, 0, 0, 0, 0, 0, 0, 0, 0, 0, 0, 0, 0, 0, 0, 0, 0, 0, 0, 0, 0, 0, 0, 0, 0, 0, 0, 0, 0, 0, 0, 0, 0, 0, 0, 0, 0, 0, 0, 0, 0, 0, 0, 0, 0, 0, 0, 0, 0, 0, 0, 0, 0, 0, 0, 0, 0, 0, 0, 0, 0, 0, 0, 0, 0, 0, 0, 0, 0, 0, 0, 0, 0, 0, 0, 0, 0, 0, 0, 0, 0, 0, 0, 0, 0, 0, 0, 0, 0, 0, 0, 0, 0, 0, 0, 0, 0, 0, 0, 0, 0, 0, 0, 0, 0, 0, 0, 0, 0, 0, 0, 0, 0, 0, 0, 0, 0, 0, 0, 0, 0, 0, 0, 0, 0, 0, 0, 0, 0, 0, 0, 0, 0, 0, 0, 0, 0, 0, 0, 0, 0, 0, 0, 0, 0, 0, 0, 0, 0, 0, 0, 0, 0, 0, 0, 0, 0, 0, 0, 0, 0, 0, 0, 0, 0, 0, 0, 0, 0, 0, 0, 0, 0, 0, 0, 0, 0, 0, 0, 0, 0, 0, 0, 0, 0, 0, 0, 0, 0, 0, 0, 0, 0, 0, 0, 0, 0, 0, 0, 0, 0, 0, 0, 0, 0, 0, 0, 0, 0, 0, 0, 0, 0, 0, 0, 0, 0, 0, 0, 0, 0, 0, 0, 0, 0, 0, 0, 0, 0, 0, 0, 0, 0, 0, 0, 0, 0, 0, 0, 0, 0, 0, 0, 0, 0, 0, 0, 0, 0, 0, 0, 0, 0, 0, 0, 0, 0, 0, 0, 0, 0, 0, 0, 0, 0, 0, 0, 0, 0, 0, 0, 0, 0, 0, 0, 0, 0, 0, 0, 0, 0, 0, 0, 0, 0, 0, 0, 0, 0, 0, 0, 0, 0, 0, 0, 0, 0, 0, 0, 0, 0, 0, 0, 0, 0, 0, 0, 0, 0, 0, 0, 0, 0, 0, 0, 0, 0, 0, 0, 0, 0, 0, 0, 0, 0, 0, 0, 0, 0, 0, 0, 0, 0, 0, 0, 0, 0, 0, 0, 0, 0, 0, 0, 0, 0, 0, 0, 0, 0, 0, 0, 0, 0, 0, 0, 0, 0, 0, 0, 0, 0, 0, 0, 0, 0, 0, 0, 0, 0, 0, 0, 0, 0, 0, 0, 0, 0, 0, 0, 0, 0, 0, 0, 0, 0, 0, 0, 0, 0, 0, 0, 0, 0, 0, 0, 0, 0, 0, 0, 0, 0, 0, 0, 0, 0, 0, 0, 0, 0, 0, 0, 0, 0, 0, 0, 0, 0, 0, 0, 0, 0, 0, 0, 0, 0, 0, 0, 0, 0, 0, 0, 0, 0, 0, 0, 0, 0, 0, 0, 0, 0, 0, 0, 0, 0, 0, 0, 0, 0, 0, 0, 0, 0, 0, 0, 0, 0, 0, 0, 0, 0, 0, 0, 0, 0, 0, 0, 0, 0, 0, 0, 0, 0, 0, 0, 0, 0, 0, 0, 0, 0, 0, 0, 0, 0, 0, 0, 0, 0, 0, 0, 0, 0, 0, 0, 0, 0, 0, 0, 0, 0, 0, 0, 0, 0, 0, 0, 0, 0, 0, 0, 0, 0, 0, 0, 0, 0, 0, 0, 0, 0, 0, 0, 0, 0, 0, 0, 0, 0, 0, 0, 0, 0, 0, 0, 0, 0, 0, 0, 0, 0, 0, 0, 0, 0, 0, 0, 0, 0, 0, 0, 0, 0, 0, 0, 0, 0, 0, 0, 0, 0, 0, 0, 0, 0, 0, 0, 0, 0, 0, 0, 0, 0, 0, 0, 0, 0, 0, 0, 0, 0, 0, 0, 0, 0, 0, 0, 0, 0, 0, 0, 0, 0, 0, 0, 0, 0, 0, 0, 0, 0, 0, 0, 0, 0, 0, 0, 0, 0, 0, 0, 0, 0, 0, 0, 0, 0, 0, 0, 0, 0, 0, 0, 0, 0, 0, 0, 0, 0, 0, 0, 0, 0, 0, 0, 0, 0, 0, 0, 0, 0, 0, 0, 0, 0, 0, 0, 0, 0, 0, 0, 0, 0, 0, 0, 0, 0, 0, 0, 0, 0, 0, 0, 0, 0, 0, 0, 0, 0, 0, 0, 0, 0, 0, 0, 0, 0, 0, 0, 0, 0, 0, 0, 0, 0, 0, 0, 0, 0, 0, 0, 0, 0, 0, 0, 0, 0, 0, 0, 0, 0, 0, 0, 0, 0, 0, 0, 0, 0, 0, 0, 0, 0, 0, 0, 0, 0, 0, 0, 0, 0, 0, 0, 0, 0, 0, 0, 0, 0, 0, 0, 0, 0, 0, 0, 0, 0, 0, 0, 0, 0, 0, 0, 0, 0, 0, 0, 0, 0, 0, 0, 0, 0, 0, 0, 0, 0, 0, 0, 0, 0, 0, 0, 0, 0, 0, 0, 0, 0, 0, 0, 0, 0, 0, 0, 0, 0, 0, 0, 0, 0, 0, 0, 0, 0, 0, 0, 0, 0, 0, 0, 0, 0, 0, 0, 0, 0, 0, 0, 0, 0, 0, 0, 0, 0, 0, 0, 0, 0, 0, 0, 0, 0, 0, 0, 0, 0, 0, 0, 0, 0, 0, 0, 0, 0, 0, 0, 0, 0, 0, 0, 0, 0, 0, 0, 0, 0, 0, 0, 0, 0, 0, 0, 0, 0, 0, 0, 0, 0, 0, 0, 0, 0, 0, 0, 0, 0, 0, 0, 0, 0, 0, 0, 0, 0, 0, 0, 0, 0, 0, 0, 0, 0, 0, 0, 0, 0, 0, 0, 0, 0, 0, 0, 0, 0, 0, 0, 0, 0, 0, 0, 0, 0, 0, 0, 0, 0, 0, 0, 0, 0, 0, 0, 0, 0, 0, 0, 0, 0, 0, 0, 0, 0, 0, 0, 0, 0, 0, 0, 0, 0, 0, 0, 0, 0, 0, 0, 0, 0, 0, 0, 0, 0, 0, 0, 0, 0, 0, 0, 0, 0, 0, 0, 0, 0, 0, 0, 0, 0, 0, 0]}\n"
     ]
    }
   ],
   "execution_count": 13
  },
  {
   "metadata": {
    "id": "af5f3131e1158e60"
   },
   "cell_type": "markdown",
   "source": [
    "## Data Preprocessing"
   ],
   "id": "af5f3131e1158e60"
  },
  {
   "metadata": {
    "id": "dc854fcd4d1189a9",
    "ExecuteTime": {
     "end_time": "2025-05-01T12:18:30.673486Z",
     "start_time": "2025-05-01T12:17:44.100367Z"
    }
   },
   "cell_type": "code",
   "source": [
    "from collections import defaultdict\n",
    "\n",
    "# convert to list for faster processing\n",
    "docs = list(docs_dataset)\n",
    "queries = list(queries_dataset)\n",
    "qrels = list(qrels_dataset)\n",
    "\n",
    "#  Normalize helper\n",
    "def clean(text):\n",
    "    return text.strip().lower()\n",
    "\n",
    "# extract document and query IDs + texts\n",
    "doc_ids, doc_texts = zip(*[(d[\"passage_id\"], clean(d[\"passage\"])) for d in docs])\n",
    "query_ids, query_texts = zip(*[(q[\"query_id\"], clean(q[\"query\"])) for q in queries])\n",
    "\n",
    "# prepare qrels dict for ranx\n",
    "doc_id_set = set(doc_ids)\n",
    "query_id_set = set(query_ids)\n",
    "\n",
    "qrels_dict = defaultdict(dict)\n",
    "for row in qrels:\n",
    "    qid = row[\"query_id\"]\n",
    "    for doc_id, label in zip(row[\"doc_ids\"], row[\"labels\"]):\n",
    "        if qid in query_id_set and doc_id in doc_id_set and label > 0:\n",
    "            qrels_dict[qid][doc_id] = label"
   ],
   "id": "dc854fcd4d1189a9",
   "outputs": [],
   "execution_count": 14
  },
  {
   "metadata": {
    "id": "adef1ec191508ac6"
   },
   "cell_type": "markdown",
   "source": [
    "## Document Embedding"
   ],
   "id": "adef1ec191508ac6"
  },
  {
   "metadata": {
    "id": "adc085a7d6bdf4f8",
    "outputId": "6a27c98f-6c76-40aa-d940-dbe7a974c46a",
    "colab": {
     "base_uri": "https://localhost:8080/",
     "height": 81,
     "referenced_widgets": [
      "730d35e5f95740b19822461eb5c69dde",
      "7387e12886084484a2805ecd3c2afa3f",
      "7b835d323fba4839a15b9e72b3b0748e",
      "2fe5e7d9f66140c1bcd743317aa70a98",
      "6ccd9a1041fa4b4a817134a79c9bb59b",
      "7e5dd77ed94b4086ae883edeb3d4d830",
      "f323cc9afb07462e89f030ccb3cff838",
      "b0b23f81c0b645ffa082fa0199c5d37b",
      "042238f27bae4d309ec016b9122be8f3",
      "3574a9bc75314cec90c67f4b7e979900",
      "54e7b476caaf4b929b9eeaaea86fce3f",
      "8a615beb02b1410e969787e78c535fd9",
      "b2f7523a15b14d6a96f491845876cd6f",
      "ae2e9d9726c14c718f09698220c2cb82",
      "f57fbbdc88144171ab021b8f804f46d5",
      "b46db064162d42efa00c2bbf6a044967",
      "27dc95eb89a54963a1349d849b410427",
      "2558eab6884a4a308c469de60f6a5440",
      "2b3364852a954d0099bafa608c65ffa1",
      "1fc9e86b4e36430d818e7587c7856e34",
      "bb2b05263a4345f28a49e47448b9c4e0",
      "b840ee1ccf044e0abfce1075404a9da4"
     ]
    },
    "ExecuteTime": {
     "end_time": "2025-05-01T12:23:37.499032Z",
     "start_time": "2025-05-01T12:19:55.775710Z"
    }
   },
   "cell_type": "code",
   "source": [
    "# load encoder model pretrained on MS MARCO\n",
    "model_name = \"msmarco-distilbert-base-v2\"\n",
    "model = SentenceTransformer(model_name)\n",
    "\n",
    "# use GPU if available\n",
    "device = \"cuda\" if torch.cuda.is_available() else \"cpu\"\n",
    "batch_size = 32 if device == \"cuda\" else 16\n",
    "model.eval() # put in eval mode to speed up inference\n",
    "\n",
    "# encode documents and queries\n",
    "document_embeddings = model.encode(doc_texts, batch_size=batch_size, convert_to_tensor=True, device=device, show_progress_bar=True)\n",
    "query_embeddings = model.encode(query_texts, batch_size=batch_size, convert_to_tensor=True, device=device, show_progress_bar=True)\n",
    "\n",
    "# convert to numpy array for FAISS\n",
    "doc_embs = document_embeddings.cpu().numpy()\n",
    "query_embs = query_embeddings.cpu().numpy()"
   ],
   "id": "adc085a7d6bdf4f8",
   "outputs": [
    {
     "output_type": "display_data",
     "data": {
      "text/plain": [
       "Batches:   0%|          | 0/27631 [00:00<?, ?it/s]"
      ],
      "application/vnd.jupyter.widget-view+json": {
       "version_major": 2,
       "version_minor": 0,
       "model_id": "730d35e5f95740b19822461eb5c69dde"
      }
     },
     "metadata": {}
    },
    {
     "output_type": "display_data",
     "data": {
      "text/plain": [
       "Batches:   0%|          | 0/2528 [00:00<?, ?it/s]"
      ],
      "application/vnd.jupyter.widget-view+json": {
       "version_major": 2,
       "version_minor": 0,
       "model_id": "8a615beb02b1410e969787e78c535fd9"
      }
     },
     "metadata": {}
    }
   ],
   "execution_count": 15
  },
  {
   "metadata": {
    "id": "930038e17f85bb64"
   },
   "cell_type": "markdown",
   "source": [
    "## Build FAISS Index"
   ],
   "id": "930038e17f85bb64"
  },
  {
   "metadata": {
    "ExecuteTime": {
     "end_time": "2025-05-01T08:25:15.662674Z",
     "start_time": "2025-04-30T22:27:39.564318Z"
    },
    "id": "ac67094c8e93e789"
   },
   "cell_type": "code",
   "source": [
    "# normalize embeddings with faiss\n",
    "faiss.normalize_L2(doc_embs)\n",
    "faiss.normalize_L2(query_embs)\n",
    "\n",
    "# build index\n",
    "dim = doc_embs.shape[1]\n",
    "index = faiss.IndexFlatL2(dim)\n",
    "index.add(doc_embs)\n"
   ],
   "id": "ac67094c8e93e789",
   "outputs": [],
   "execution_count": 16
  },
  {
   "metadata": {
    "id": "9e78bcd394c84bb8"
   },
   "cell_type": "markdown",
   "source": [
    "## Evaluation"
   ],
   "id": "9e78bcd394c84bb8"
  },
  {
   "metadata": {
    "id": "bf795ecb654c94f2",
    "outputId": "ed7a8697-85ca-435a-847f-997124dca3ab",
    "colab": {
     "base_uri": "https://localhost:8080/"
    }
   },
   "cell_type": "code",
   "outputs": [
    {
     "output_type": "stream",
     "name": "stdout",
     "text": [
      "Retrieval time per query: 0.0121 seconds\n"
     ]
    }
   ],
   "execution_count": 17,
   "source": [
    "from ranx import Qrels, Run, evaluate\n",
    "\n",
    "# do KNN Search and return retrieval time\n",
    "k = 5\n",
    "start_time = time.time()\n",
    "distances, knn = index.search(query_embs, k)\n",
    "retrieval_time = (time.time() - start_time) / len(query_ids)\n",
    "print(f\"Retrieval time per query: {retrieval_time:.4f} seconds\")\n"
   ],
   "id": "bf795ecb654c94f2"
  },
  {
   "cell_type": "code",
   "source": [
    "# calculate MRR\n",
    "\n",
    "# Run: stores the relevance scores estimated by the model under evaluation\n",
    "# map each query_id -> { doc_id: score }\n",
    "run = {\n",
    "    query_ids[i]: {\n",
    "        doc_ids[knn[i][j]]: -float(distances[i][j]) for j in range(k) # use negative distance as ranx interprets higher score = higher rank\n",
    "    }\n",
    "    for i in range(len(query_ids))\n",
    "}\n",
    "\n",
    "qrels_rx = Qrels(qrels_dict)\n",
    "run_rx = Run(run)\n",
    "\n",
    "# # measure MRR\n",
    "mrr = evaluate(qrels_rx, run_rx, \"mrr\", make_comparable=True)\n",
    "print(f\"MRR: {mrr:.4f}\")\n"
   ],
   "metadata": {
    "id": "YDRxpE3elajz",
    "outputId": "c32d45a1-91fd-409c-c747-db82091905c3",
    "colab": {
     "base_uri": "https://localhost:8080/"
    }
   },
   "id": "YDRxpE3elajz",
   "execution_count": 18,
   "outputs": [
    {
     "output_type": "stream",
     "name": "stdout",
     "text": [
      "MRR: 0.4686\n"
     ]
    }
   ]
  },
  {
   "metadata": {
    "id": "d332f0f750d8490c"
   },
   "cell_type": "code",
   "outputs": [],
   "execution_count": 20,
   "source": [
    "# save run results to use in dense + sparse retrieval hybrid retriever\n",
    "# run_rx.save(\"../dense_sparse_retrieval/dense_results.json\")\n",
    "run_rx.save(\"dense_results.json\")"
   ],
   "id": "d332f0f750d8490c"
  }
 ],
 "metadata": {
  "kernelspec": {
   "display_name": "Python [conda env:base] *",
   "language": "python",
   "name": "conda-base-py"
  },
  "language_info": {
   "codemirror_mode": {
    "name": "ipython",
    "version": 3
   },
   "file_extension": ".py",
   "mimetype": "text/x-python",
   "name": "python",
   "nbconvert_exporter": "python",
   "pygments_lexer": "ipython3",
   "version": "3.10.11"
  },
  "colab": {
   "provenance": [],
   "gpuType": "L4",
   "toc_visible": true,
   "include_colab_link": true
  },
  "accelerator": "GPU",
  "widgets": {
   "application/vnd.jupyter.widget-state+json": {
    "730d35e5f95740b19822461eb5c69dde": {
     "model_module": "@jupyter-widgets/controls",
     "model_name": "HBoxModel",
     "model_module_version": "1.5.0",
     "state": {
      "_dom_classes": [],
      "_model_module": "@jupyter-widgets/controls",
      "_model_module_version": "1.5.0",
      "_model_name": "HBoxModel",
      "_view_count": null,
      "_view_module": "@jupyter-widgets/controls",
      "_view_module_version": "1.5.0",
      "_view_name": "HBoxView",
      "box_style": "",
      "children": [
       "IPY_MODEL_7387e12886084484a2805ecd3c2afa3f",
       "IPY_MODEL_7b835d323fba4839a15b9e72b3b0748e",
       "IPY_MODEL_2fe5e7d9f66140c1bcd743317aa70a98"
      ],
      "layout": "IPY_MODEL_6ccd9a1041fa4b4a817134a79c9bb59b"
     }
    },
    "7387e12886084484a2805ecd3c2afa3f": {
     "model_module": "@jupyter-widgets/controls",
     "model_name": "HTMLModel",
     "model_module_version": "1.5.0",
     "state": {
      "_dom_classes": [],
      "_model_module": "@jupyter-widgets/controls",
      "_model_module_version": "1.5.0",
      "_model_name": "HTMLModel",
      "_view_count": null,
      "_view_module": "@jupyter-widgets/controls",
      "_view_module_version": "1.5.0",
      "_view_name": "HTMLView",
      "description": "",
      "description_tooltip": null,
      "layout": "IPY_MODEL_7e5dd77ed94b4086ae883edeb3d4d830",
      "placeholder": "​",
      "style": "IPY_MODEL_f323cc9afb07462e89f030ccb3cff838",
      "value": "Batches: 100%"
     }
    },
    "7b835d323fba4839a15b9e72b3b0748e": {
     "model_module": "@jupyter-widgets/controls",
     "model_name": "FloatProgressModel",
     "model_module_version": "1.5.0",
     "state": {
      "_dom_classes": [],
      "_model_module": "@jupyter-widgets/controls",
      "_model_module_version": "1.5.0",
      "_model_name": "FloatProgressModel",
      "_view_count": null,
      "_view_module": "@jupyter-widgets/controls",
      "_view_module_version": "1.5.0",
      "_view_name": "ProgressView",
      "bar_style": "success",
      "description": "",
      "description_tooltip": null,
      "layout": "IPY_MODEL_b0b23f81c0b645ffa082fa0199c5d37b",
      "max": 27631,
      "min": 0,
      "orientation": "horizontal",
      "style": "IPY_MODEL_042238f27bae4d309ec016b9122be8f3",
      "value": 27631
     }
    },
    "2fe5e7d9f66140c1bcd743317aa70a98": {
     "model_module": "@jupyter-widgets/controls",
     "model_name": "HTMLModel",
     "model_module_version": "1.5.0",
     "state": {
      "_dom_classes": [],
      "_model_module": "@jupyter-widgets/controls",
      "_model_module_version": "1.5.0",
      "_model_name": "HTMLModel",
      "_view_count": null,
      "_view_module": "@jupyter-widgets/controls",
      "_view_module_version": "1.5.0",
      "_view_name": "HTMLView",
      "description": "",
      "description_tooltip": null,
      "layout": "IPY_MODEL_3574a9bc75314cec90c67f4b7e979900",
      "placeholder": "​",
      "style": "IPY_MODEL_54e7b476caaf4b929b9eeaaea86fce3f",
      "value": " 27631/27631 [19:14&lt;00:00, 77.18it/s]"
     }
    },
    "6ccd9a1041fa4b4a817134a79c9bb59b": {
     "model_module": "@jupyter-widgets/base",
     "model_name": "LayoutModel",
     "model_module_version": "1.2.0",
     "state": {
      "_model_module": "@jupyter-widgets/base",
      "_model_module_version": "1.2.0",
      "_model_name": "LayoutModel",
      "_view_count": null,
      "_view_module": "@jupyter-widgets/base",
      "_view_module_version": "1.2.0",
      "_view_name": "LayoutView",
      "align_content": null,
      "align_items": null,
      "align_self": null,
      "border": null,
      "bottom": null,
      "display": null,
      "flex": null,
      "flex_flow": null,
      "grid_area": null,
      "grid_auto_columns": null,
      "grid_auto_flow": null,
      "grid_auto_rows": null,
      "grid_column": null,
      "grid_gap": null,
      "grid_row": null,
      "grid_template_areas": null,
      "grid_template_columns": null,
      "grid_template_rows": null,
      "height": null,
      "justify_content": null,
      "justify_items": null,
      "left": null,
      "margin": null,
      "max_height": null,
      "max_width": null,
      "min_height": null,
      "min_width": null,
      "object_fit": null,
      "object_position": null,
      "order": null,
      "overflow": null,
      "overflow_x": null,
      "overflow_y": null,
      "padding": null,
      "right": null,
      "top": null,
      "visibility": null,
      "width": null
     }
    },
    "7e5dd77ed94b4086ae883edeb3d4d830": {
     "model_module": "@jupyter-widgets/base",
     "model_name": "LayoutModel",
     "model_module_version": "1.2.0",
     "state": {
      "_model_module": "@jupyter-widgets/base",
      "_model_module_version": "1.2.0",
      "_model_name": "LayoutModel",
      "_view_count": null,
      "_view_module": "@jupyter-widgets/base",
      "_view_module_version": "1.2.0",
      "_view_name": "LayoutView",
      "align_content": null,
      "align_items": null,
      "align_self": null,
      "border": null,
      "bottom": null,
      "display": null,
      "flex": null,
      "flex_flow": null,
      "grid_area": null,
      "grid_auto_columns": null,
      "grid_auto_flow": null,
      "grid_auto_rows": null,
      "grid_column": null,
      "grid_gap": null,
      "grid_row": null,
      "grid_template_areas": null,
      "grid_template_columns": null,
      "grid_template_rows": null,
      "height": null,
      "justify_content": null,
      "justify_items": null,
      "left": null,
      "margin": null,
      "max_height": null,
      "max_width": null,
      "min_height": null,
      "min_width": null,
      "object_fit": null,
      "object_position": null,
      "order": null,
      "overflow": null,
      "overflow_x": null,
      "overflow_y": null,
      "padding": null,
      "right": null,
      "top": null,
      "visibility": null,
      "width": null
     }
    },
    "f323cc9afb07462e89f030ccb3cff838": {
     "model_module": "@jupyter-widgets/controls",
     "model_name": "DescriptionStyleModel",
     "model_module_version": "1.5.0",
     "state": {
      "_model_module": "@jupyter-widgets/controls",
      "_model_module_version": "1.5.0",
      "_model_name": "DescriptionStyleModel",
      "_view_count": null,
      "_view_module": "@jupyter-widgets/base",
      "_view_module_version": "1.2.0",
      "_view_name": "StyleView",
      "description_width": ""
     }
    },
    "b0b23f81c0b645ffa082fa0199c5d37b": {
     "model_module": "@jupyter-widgets/base",
     "model_name": "LayoutModel",
     "model_module_version": "1.2.0",
     "state": {
      "_model_module": "@jupyter-widgets/base",
      "_model_module_version": "1.2.0",
      "_model_name": "LayoutModel",
      "_view_count": null,
      "_view_module": "@jupyter-widgets/base",
      "_view_module_version": "1.2.0",
      "_view_name": "LayoutView",
      "align_content": null,
      "align_items": null,
      "align_self": null,
      "border": null,
      "bottom": null,
      "display": null,
      "flex": null,
      "flex_flow": null,
      "grid_area": null,
      "grid_auto_columns": null,
      "grid_auto_flow": null,
      "grid_auto_rows": null,
      "grid_column": null,
      "grid_gap": null,
      "grid_row": null,
      "grid_template_areas": null,
      "grid_template_columns": null,
      "grid_template_rows": null,
      "height": null,
      "justify_content": null,
      "justify_items": null,
      "left": null,
      "margin": null,
      "max_height": null,
      "max_width": null,
      "min_height": null,
      "min_width": null,
      "object_fit": null,
      "object_position": null,
      "order": null,
      "overflow": null,
      "overflow_x": null,
      "overflow_y": null,
      "padding": null,
      "right": null,
      "top": null,
      "visibility": null,
      "width": null
     }
    },
    "042238f27bae4d309ec016b9122be8f3": {
     "model_module": "@jupyter-widgets/controls",
     "model_name": "ProgressStyleModel",
     "model_module_version": "1.5.0",
     "state": {
      "_model_module": "@jupyter-widgets/controls",
      "_model_module_version": "1.5.0",
      "_model_name": "ProgressStyleModel",
      "_view_count": null,
      "_view_module": "@jupyter-widgets/base",
      "_view_module_version": "1.2.0",
      "_view_name": "StyleView",
      "bar_color": null,
      "description_width": ""
     }
    },
    "3574a9bc75314cec90c67f4b7e979900": {
     "model_module": "@jupyter-widgets/base",
     "model_name": "LayoutModel",
     "model_module_version": "1.2.0",
     "state": {
      "_model_module": "@jupyter-widgets/base",
      "_model_module_version": "1.2.0",
      "_model_name": "LayoutModel",
      "_view_count": null,
      "_view_module": "@jupyter-widgets/base",
      "_view_module_version": "1.2.0",
      "_view_name": "LayoutView",
      "align_content": null,
      "align_items": null,
      "align_self": null,
      "border": null,
      "bottom": null,
      "display": null,
      "flex": null,
      "flex_flow": null,
      "grid_area": null,
      "grid_auto_columns": null,
      "grid_auto_flow": null,
      "grid_auto_rows": null,
      "grid_column": null,
      "grid_gap": null,
      "grid_row": null,
      "grid_template_areas": null,
      "grid_template_columns": null,
      "grid_template_rows": null,
      "height": null,
      "justify_content": null,
      "justify_items": null,
      "left": null,
      "margin": null,
      "max_height": null,
      "max_width": null,
      "min_height": null,
      "min_width": null,
      "object_fit": null,
      "object_position": null,
      "order": null,
      "overflow": null,
      "overflow_x": null,
      "overflow_y": null,
      "padding": null,
      "right": null,
      "top": null,
      "visibility": null,
      "width": null
     }
    },
    "54e7b476caaf4b929b9eeaaea86fce3f": {
     "model_module": "@jupyter-widgets/controls",
     "model_name": "DescriptionStyleModel",
     "model_module_version": "1.5.0",
     "state": {
      "_model_module": "@jupyter-widgets/controls",
      "_model_module_version": "1.5.0",
      "_model_name": "DescriptionStyleModel",
      "_view_count": null,
      "_view_module": "@jupyter-widgets/base",
      "_view_module_version": "1.2.0",
      "_view_name": "StyleView",
      "description_width": ""
     }
    },
    "8a615beb02b1410e969787e78c535fd9": {
     "model_module": "@jupyter-widgets/controls",
     "model_name": "HBoxModel",
     "model_module_version": "1.5.0",
     "state": {
      "_dom_classes": [],
      "_model_module": "@jupyter-widgets/controls",
      "_model_module_version": "1.5.0",
      "_model_name": "HBoxModel",
      "_view_count": null,
      "_view_module": "@jupyter-widgets/controls",
      "_view_module_version": "1.5.0",
      "_view_name": "HBoxView",
      "box_style": "",
      "children": [
       "IPY_MODEL_b2f7523a15b14d6a96f491845876cd6f",
       "IPY_MODEL_ae2e9d9726c14c718f09698220c2cb82",
       "IPY_MODEL_f57fbbdc88144171ab021b8f804f46d5"
      ],
      "layout": "IPY_MODEL_b46db064162d42efa00c2bbf6a044967"
     }
    },
    "b2f7523a15b14d6a96f491845876cd6f": {
     "model_module": "@jupyter-widgets/controls",
     "model_name": "HTMLModel",
     "model_module_version": "1.5.0",
     "state": {
      "_dom_classes": [],
      "_model_module": "@jupyter-widgets/controls",
      "_model_module_version": "1.5.0",
      "_model_name": "HTMLModel",
      "_view_count": null,
      "_view_module": "@jupyter-widgets/controls",
      "_view_module_version": "1.5.0",
      "_view_name": "HTMLView",
      "description": "",
      "description_tooltip": null,
      "layout": "IPY_MODEL_27dc95eb89a54963a1349d849b410427",
      "placeholder": "​",
      "style": "IPY_MODEL_2558eab6884a4a308c469de60f6a5440",
      "value": "Batches: 100%"
     }
    },
    "ae2e9d9726c14c718f09698220c2cb82": {
     "model_module": "@jupyter-widgets/controls",
     "model_name": "FloatProgressModel",
     "model_module_version": "1.5.0",
     "state": {
      "_dom_classes": [],
      "_model_module": "@jupyter-widgets/controls",
      "_model_module_version": "1.5.0",
      "_model_name": "FloatProgressModel",
      "_view_count": null,
      "_view_module": "@jupyter-widgets/controls",
      "_view_module_version": "1.5.0",
      "_view_name": "ProgressView",
      "bar_style": "success",
      "description": "",
      "description_tooltip": null,
      "layout": "IPY_MODEL_2b3364852a954d0099bafa608c65ffa1",
      "max": 2528,
      "min": 0,
      "orientation": "horizontal",
      "style": "IPY_MODEL_1fc9e86b4e36430d818e7587c7856e34",
      "value": 2528
     }
    },
    "f57fbbdc88144171ab021b8f804f46d5": {
     "model_module": "@jupyter-widgets/controls",
     "model_name": "HTMLModel",
     "model_module_version": "1.5.0",
     "state": {
      "_dom_classes": [],
      "_model_module": "@jupyter-widgets/controls",
      "_model_module_version": "1.5.0",
      "_model_name": "HTMLModel",
      "_view_count": null,
      "_view_module": "@jupyter-widgets/controls",
      "_view_module_version": "1.5.0",
      "_view_name": "HTMLView",
      "description": "",
      "description_tooltip": null,
      "layout": "IPY_MODEL_bb2b05263a4345f28a49e47448b9c4e0",
      "placeholder": "​",
      "style": "IPY_MODEL_b840ee1ccf044e0abfce1075404a9da4",
      "value": " 2528/2528 [00:16&lt;00:00, 157.91it/s]"
     }
    },
    "b46db064162d42efa00c2bbf6a044967": {
     "model_module": "@jupyter-widgets/base",
     "model_name": "LayoutModel",
     "model_module_version": "1.2.0",
     "state": {
      "_model_module": "@jupyter-widgets/base",
      "_model_module_version": "1.2.0",
      "_model_name": "LayoutModel",
      "_view_count": null,
      "_view_module": "@jupyter-widgets/base",
      "_view_module_version": "1.2.0",
      "_view_name": "LayoutView",
      "align_content": null,
      "align_items": null,
      "align_self": null,
      "border": null,
      "bottom": null,
      "display": null,
      "flex": null,
      "flex_flow": null,
      "grid_area": null,
      "grid_auto_columns": null,
      "grid_auto_flow": null,
      "grid_auto_rows": null,
      "grid_column": null,
      "grid_gap": null,
      "grid_row": null,
      "grid_template_areas": null,
      "grid_template_columns": null,
      "grid_template_rows": null,
      "height": null,
      "justify_content": null,
      "justify_items": null,
      "left": null,
      "margin": null,
      "max_height": null,
      "max_width": null,
      "min_height": null,
      "min_width": null,
      "object_fit": null,
      "object_position": null,
      "order": null,
      "overflow": null,
      "overflow_x": null,
      "overflow_y": null,
      "padding": null,
      "right": null,
      "top": null,
      "visibility": null,
      "width": null
     }
    },
    "27dc95eb89a54963a1349d849b410427": {
     "model_module": "@jupyter-widgets/base",
     "model_name": "LayoutModel",
     "model_module_version": "1.2.0",
     "state": {
      "_model_module": "@jupyter-widgets/base",
      "_model_module_version": "1.2.0",
      "_model_name": "LayoutModel",
      "_view_count": null,
      "_view_module": "@jupyter-widgets/base",
      "_view_module_version": "1.2.0",
      "_view_name": "LayoutView",
      "align_content": null,
      "align_items": null,
      "align_self": null,
      "border": null,
      "bottom": null,
      "display": null,
      "flex": null,
      "flex_flow": null,
      "grid_area": null,
      "grid_auto_columns": null,
      "grid_auto_flow": null,
      "grid_auto_rows": null,
      "grid_column": null,
      "grid_gap": null,
      "grid_row": null,
      "grid_template_areas": null,
      "grid_template_columns": null,
      "grid_template_rows": null,
      "height": null,
      "justify_content": null,
      "justify_items": null,
      "left": null,
      "margin": null,
      "max_height": null,
      "max_width": null,
      "min_height": null,
      "min_width": null,
      "object_fit": null,
      "object_position": null,
      "order": null,
      "overflow": null,
      "overflow_x": null,
      "overflow_y": null,
      "padding": null,
      "right": null,
      "top": null,
      "visibility": null,
      "width": null
     }
    },
    "2558eab6884a4a308c469de60f6a5440": {
     "model_module": "@jupyter-widgets/controls",
     "model_name": "DescriptionStyleModel",
     "model_module_version": "1.5.0",
     "state": {
      "_model_module": "@jupyter-widgets/controls",
      "_model_module_version": "1.5.0",
      "_model_name": "DescriptionStyleModel",
      "_view_count": null,
      "_view_module": "@jupyter-widgets/base",
      "_view_module_version": "1.2.0",
      "_view_name": "StyleView",
      "description_width": ""
     }
    },
    "2b3364852a954d0099bafa608c65ffa1": {
     "model_module": "@jupyter-widgets/base",
     "model_name": "LayoutModel",
     "model_module_version": "1.2.0",
     "state": {
      "_model_module": "@jupyter-widgets/base",
      "_model_module_version": "1.2.0",
      "_model_name": "LayoutModel",
      "_view_count": null,
      "_view_module": "@jupyter-widgets/base",
      "_view_module_version": "1.2.0",
      "_view_name": "LayoutView",
      "align_content": null,
      "align_items": null,
      "align_self": null,
      "border": null,
      "bottom": null,
      "display": null,
      "flex": null,
      "flex_flow": null,
      "grid_area": null,
      "grid_auto_columns": null,
      "grid_auto_flow": null,
      "grid_auto_rows": null,
      "grid_column": null,
      "grid_gap": null,
      "grid_row": null,
      "grid_template_areas": null,
      "grid_template_columns": null,
      "grid_template_rows": null,
      "height": null,
      "justify_content": null,
      "justify_items": null,
      "left": null,
      "margin": null,
      "max_height": null,
      "max_width": null,
      "min_height": null,
      "min_width": null,
      "object_fit": null,
      "object_position": null,
      "order": null,
      "overflow": null,
      "overflow_x": null,
      "overflow_y": null,
      "padding": null,
      "right": null,
      "top": null,
      "visibility": null,
      "width": null
     }
    },
    "1fc9e86b4e36430d818e7587c7856e34": {
     "model_module": "@jupyter-widgets/controls",
     "model_name": "ProgressStyleModel",
     "model_module_version": "1.5.0",
     "state": {
      "_model_module": "@jupyter-widgets/controls",
      "_model_module_version": "1.5.0",
      "_model_name": "ProgressStyleModel",
      "_view_count": null,
      "_view_module": "@jupyter-widgets/base",
      "_view_module_version": "1.2.0",
      "_view_name": "StyleView",
      "bar_color": null,
      "description_width": ""
     }
    },
    "bb2b05263a4345f28a49e47448b9c4e0": {
     "model_module": "@jupyter-widgets/base",
     "model_name": "LayoutModel",
     "model_module_version": "1.2.0",
     "state": {
      "_model_module": "@jupyter-widgets/base",
      "_model_module_version": "1.2.0",
      "_model_name": "LayoutModel",
      "_view_count": null,
      "_view_module": "@jupyter-widgets/base",
      "_view_module_version": "1.2.0",
      "_view_name": "LayoutView",
      "align_content": null,
      "align_items": null,
      "align_self": null,
      "border": null,
      "bottom": null,
      "display": null,
      "flex": null,
      "flex_flow": null,
      "grid_area": null,
      "grid_auto_columns": null,
      "grid_auto_flow": null,
      "grid_auto_rows": null,
      "grid_column": null,
      "grid_gap": null,
      "grid_row": null,
      "grid_template_areas": null,
      "grid_template_columns": null,
      "grid_template_rows": null,
      "height": null,
      "justify_content": null,
      "justify_items": null,
      "left": null,
      "margin": null,
      "max_height": null,
      "max_width": null,
      "min_height": null,
      "min_width": null,
      "object_fit": null,
      "object_position": null,
      "order": null,
      "overflow": null,
      "overflow_x": null,
      "overflow_y": null,
      "padding": null,
      "right": null,
      "top": null,
      "visibility": null,
      "width": null
     }
    },
    "b840ee1ccf044e0abfce1075404a9da4": {
     "model_module": "@jupyter-widgets/controls",
     "model_name": "DescriptionStyleModel",
     "model_module_version": "1.5.0",
     "state": {
      "_model_module": "@jupyter-widgets/controls",
      "_model_module_version": "1.5.0",
      "_model_name": "DescriptionStyleModel",
      "_view_count": null,
      "_view_module": "@jupyter-widgets/base",
      "_view_module_version": "1.2.0",
      "_view_name": "StyleView",
      "description_width": ""
     }
    }
   }
  }
 },
 "nbformat": 4,
 "nbformat_minor": 5
}
