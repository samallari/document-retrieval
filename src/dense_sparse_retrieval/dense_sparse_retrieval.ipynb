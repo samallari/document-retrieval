{
 "cells": [
  {
   "metadata": {},
   "cell_type": "markdown",
   "source": [
    "## Dense + Sparse: Hybrid Retrieval\n",
    "uses results from dense and sparse retrieval to improve performance"
   ],
   "id": "31e73e0d2c04f865"
  },
  {
   "metadata": {},
   "cell_type": "markdown",
   "source": "## Load Dataset",
   "id": "9d242541c31f4306"
  },
  {
   "metadata": {},
   "cell_type": "code",
   "outputs": [],
   "execution_count": null,
   "source": [
    "# load qrels from MS MARCO\n",
    "from datasets import load_dataset\n",
    "# load MS MARCO dataset (use 10% of the dataset for testing)\n",
    "docs_dataset = load_dataset(\"sentence-transformers/msmarco\", \"corpus\", split=\"train[:10%]\")\n",
    "queries_dataset = load_dataset(\"sentence-transformers/msmarco\", \"queries\", split=\"train[:10%]\")\n",
    "qrels_dataset = load_dataset(\"sentence-transformers/msmarco\", \"labeled-list\", split=\"train[:10%]\")\n",
    "\n",
    "print(\"corpus labels:\", docs_dataset.column_names)\n",
    "print(\"queries labels:\", queries_dataset.column_names)\n",
    "print(\"qrels labels:\", qrels_dataset.column_names)\n",
    "\n",
    "print(\"corpus:\", docs_dataset[0])\n",
    "print(\"queries:\", queries_dataset[0])\n",
    "print(\"qrels:\", qrels_dataset[0])"
   ],
   "id": "237fc19816c470ed"
  },
  {
   "metadata": {},
   "cell_type": "code",
   "outputs": [],
   "execution_count": null,
   "source": [
    "from collections import defaultdict\n",
    "\n",
    "# convert to list for faster processing\n",
    "docs = list(docs_dataset)\n",
    "queries = list(queries_dataset)\n",
    "qrels = list(qrels_dataset)\n",
    "\n",
    "#  Normalize helper\n",
    "def clean(text):\n",
    "    return text.strip().lower()\n",
    "\n",
    "# extract document and query IDs + texts\n",
    "doc_ids, doc_texts = zip(*[(d[\"passage_id\"], clean(d[\"passage\"])) for d in docs])\n",
    "query_ids, query_texts = zip(*[(q[\"query_id\"], clean(q[\"query\"])) for q in queries])\n",
    "\n",
    "# prepare qrels dict for ranx\n",
    "doc_id_set = set(doc_ids)\n",
    "query_id_set = set(query_ids)\n",
    "\n",
    "qrels_dict = defaultdict(dict)\n",
    "for row in qrels:\n",
    "    qid = row[\"query_id\"]\n",
    "    for doc_id, label in zip(row[\"doc_ids\"], row[\"labels\"]):\n",
    "        if qid in query_id_set and doc_id in doc_id_set and label > 0:\n",
    "            qrels_dict[qid][doc_id] = label"
   ],
   "id": "acceff955692a932"
  },
  {
   "metadata": {},
   "cell_type": "markdown",
   "source": [
    "## Load Results from Dense and Sparse Retrieval\n",
    "Results should follow format:\n",
    "```\n",
    "{\n",
    "    \"query_id\": {\n",
    "        \"doc_id\": {\n",
    "            \"score\": 0.9\n",
    "        }\n",
    "    }\n",
    "}\n",
    "```"
   ],
   "id": "2f3a97aa8860c5e4"
  },
  {
   "metadata": {},
   "cell_type": "code",
   "outputs": [],
   "execution_count": null,
   "source": [
    "from ranx import Run\n",
    "\n",
    "# Load dense and sparse results from JSON\n",
    "dense_run = Run.from_file(\"dense_results.json\")\n",
    "sparse_run = Run.from_file(\"sparse_results.json\")  # if available"
   ],
   "id": "48eb24413fd16320"
  },
  {
   "metadata": {},
   "cell_type": "markdown",
   "source": "## Apply Multiple Fusion Strategies + Evaluate",
   "id": "71cfdb3ab29ddadc"
  },
  {
   "metadata": {},
   "cell_type": "code",
   "outputs": [],
   "execution_count": null,
   "source": [
    "from ranx import fuse, evaluate\n",
    "import time\n",
    "\n",
    "# Define fusion strategies and their config\n",
    "fusion_strategies = {\n",
    "    \"rrf\": {\"method\": \"rrf\"},\n",
    "    \"wsum\": {\"method\": \"wsum\", \"weights\": [0.5, 0.5]},\n",
    "}\n",
    "\n",
    "# Store fused runs and timing\n",
    "fused_runs = {}\n",
    "timings = {}\n",
    "\n",
    "# Time each fusion\n",
    "for strategy, params in fusion_strategies.items():\n",
    "    print(f\"==== RUN: {strategy.upper()} ====\")\n",
    "\n",
    "    start_time = time.time()\n",
    "    fused_run = fuse([sparse_run, dense_run], **params)\n",
    "    end_time = time.time()\n",
    "\n",
    "    fused_runs[strategy] = fused_run\n",
    "    timings[strategy] = end_time - start_time\n",
    "    retrieval_time = (end_time - start_time) / len(fused_run.run)\n",
    "\n",
    "    print(f\"Retrieval time per query: {retrieval_time:.4f} seconds\")"
   ],
   "id": "e4397518d7d9e5d9"
  },
  {
   "metadata": {},
   "cell_type": "code",
   "outputs": [],
   "execution_count": null,
   "source": [
    "# calculate MRR for each fusion strategy\n",
    "for strategy, fused_run in fused_runs.items():\n",
    "    mrr = evaluate(qrels_dict, fused_run, \"mrr\", make_comparable=True)\n",
    "    print(f\"MRR for {strategy}: {mrr:.4f}\")"
   ],
   "id": "d9177c0113d7caa6"
  }
 ],
 "metadata": {},
 "nbformat": 4,
 "nbformat_minor": 5
}
